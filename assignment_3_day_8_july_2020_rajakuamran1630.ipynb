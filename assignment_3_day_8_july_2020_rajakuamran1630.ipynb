{
  "nbformat": 4,
  "nbformat_minor": 0,
  "metadata": {
    "colab": {
      "name": "assignment_3_day_8_july_2020_rajakuamran1630.ipynb",
      "provenance": [],
      "collapsed_sections": [],
      "authorship_tag": "ABX9TyNVJMoZnv/WJufD0gx4RH6F",
      "include_colab_link": true
    },
    "kernelspec": {
      "name": "python3",
      "display_name": "Python 3"
    }
  },
  "cells": [
    {
      "cell_type": "markdown",
      "metadata": {
        "id": "view-in-github",
        "colab_type": "text"
      },
      "source": [
        "<a href=\"https://colab.research.google.com/github/Rajakuman/ai_ml_assignment/blob/master/assignment_3_day_8_july_2020_rajakuamran1630.ipynb\" target=\"_parent\"><img src=\"https://colab.research.google.com/assets/colab-badge.svg\" alt=\"Open In Colab\"/></a>"
      ]
    },
    {
      "cell_type": "markdown",
      "metadata": {
        "id": "TKcgYq89RYQu",
        "colab_type": "text"
      },
      "source": [
        "# **Question 1 :**\n",
        "Write a program to subtract two complex numbers in Python"
      ]
    },
    {
      "cell_type": "code",
      "metadata": {
        "id": "n753fajo_CRP",
        "colab_type": "code",
        "colab": {
          "base_uri": "https://localhost:8080/",
          "height": 34
        },
        "outputId": "201b2959-bb8d-4ba3-8841-f9e252301542"
      },
      "source": [
        "a=20\n",
        "b=30\n",
        "c=b-a\n",
        "print(c)"
      ],
      "execution_count": 1,
      "outputs": [
        {
          "output_type": "stream",
          "text": [
            "10\n"
          ],
          "name": "stdout"
        }
      ]
    },
    {
      "cell_type": "markdown",
      "metadata": {
        "id": "Xpl-8buGVycV",
        "colab_type": "text"
      },
      "source": [
        "## **Question 2 :**\n",
        "Write a program to find the fourth root of a number."
      ]
    },
    {
      "cell_type": "code",
      "metadata": {
        "id": "nhNWhcylV0sU",
        "colab_type": "code",
        "colab": {
          "base_uri": "https://localhost:8080/",
          "height": 34
        },
        "outputId": "1c98a1b6-b684-4c4c-b57c-9be567042e2a"
      },
      "source": [
        "x=625\n",
        "z=x**(1/4)\n",
        "print(x,\" of the fourth root: \",z)\n"
      ],
      "execution_count": 23,
      "outputs": [
        {
          "output_type": "stream",
          "text": [
            "625  of the fourth root:  5.0\n"
          ],
          "name": "stdout"
        }
      ]
    },
    {
      "cell_type": "markdown",
      "metadata": {
        "id": "G3OUa4OhWpsj",
        "colab_type": "text"
      },
      "source": [
        "## **Question 3:**\n",
        "Write a program to swap two numbers in Python with the help of a temporary variable.\n"
      ]
    },
    {
      "cell_type": "code",
      "metadata": {
        "id": "EOupltHgWty_",
        "colab_type": "code",
        "colab": {
          "base_uri": "https://localhost:8080/",
          "height": 51
        },
        "outputId": "f912fb76-c340-4369-9122-1fd4c38e0610"
      },
      "source": [
        "a=20\n",
        "b=30\n",
        "print(\"Before Swapping: a =\", a, \" b =\", b); \n",
        "c=a\n",
        "a=b\n",
        "b=c\n",
        "print(\"After Swapping: a =\", a, \" b =\", b); "
      ],
      "execution_count": 18,
      "outputs": [
        {
          "output_type": "stream",
          "text": [
            "Before Swapping: a = 20  b = 30\n",
            "After Swapping: a = 30  b = 20\n"
          ],
          "name": "stdout"
        }
      ]
    },
    {
      "cell_type": "markdown",
      "metadata": {
        "id": "WOHpsWGaXLkP",
        "colab_type": "text"
      },
      "source": [
        "## **Question 4:**\n",
        "Write a program to swap two numbers in Python without using a temporary variable.\n"
      ]
    },
    {
      "cell_type": "code",
      "metadata": {
        "id": "3g7u4gSzXOkb",
        "colab_type": "code",
        "colab": {
          "base_uri": "https://localhost:8080/",
          "height": 51
        },
        "outputId": "1c6ac2dd-51aa-48d2-b2d6-68b8f6d598f6"
      },
      "source": [
        "x = 10\n",
        "y = 5\n",
        "print(\"Before Swapping: x =\", x, \" y =\", y); \n",
        "\n",
        "# Code to swap 'x' and 'y' \n",
        "  \n",
        "# x now becomes 15 \n",
        "x = x + y   \n",
        "  \n",
        "# y becomes 10 \n",
        "y = x - y  \n",
        "  \n",
        "# x becomes 5 \n",
        "x = x - y   \n",
        "print(\"After Swapping: x =\", x, \" y =\", y); \n",
        "  "
      ],
      "execution_count": 17,
      "outputs": [
        {
          "output_type": "stream",
          "text": [
            "Before Swapping: x = 10  y = 5\n",
            "After Swapping: x = 5  y = 10\n"
          ],
          "name": "stdout"
        }
      ]
    },
    {
      "cell_type": "markdown",
      "metadata": {
        "id": "jgRYSPD7Yoy_",
        "colab_type": "text"
      },
      "source": [
        "## **Question 5:**\n",
        "Write a program to convert fahrenheit to kelvin and celsius both.\n"
      ]
    },
    {
      "cell_type": "code",
      "metadata": {
        "id": "fXMqHDPHYrUF",
        "colab_type": "code",
        "colab": {}
      },
      "source": [
        ""
      ],
      "execution_count": null,
      "outputs": []
    },
    {
      "cell_type": "markdown",
      "metadata": {
        "id": "nrmquW2pZ-Yg",
        "colab_type": "text"
      },
      "source": [
        "## **Question 6:** \n",
        "Write a program to demonstrate all the available data types in Python. Hint: Use type() function"
      ]
    },
    {
      "cell_type": "code",
      "metadata": {
        "id": "LEI9iBgcaK_s",
        "colab_type": "code",
        "colab": {}
      },
      "source": [
        ""
      ],
      "execution_count": null,
      "outputs": []
    },
    {
      "cell_type": "markdown",
      "metadata": {
        "id": "mTasGDJ3aF_f",
        "colab_type": "text"
      },
      "source": [
        "### **Question 7**: \n",
        "Create a Markdown cell in jupyter and list the steps discussed in the session by Dr. Darshan Ingle sir to create Github profile and upload Githubs Assignment link"
      ]
    },
    {
      "cell_type": "code",
      "metadata": {
        "id": "JoekurHUaJir",
        "colab_type": "code",
        "colab": {}
      },
      "source": [
        "https://github.com/Rajakuman/ai_ml_assignment/blob/master/assignment_3_day_8_july_2020_rajakuamran1630.py"
      ],
      "execution_count": null,
      "outputs": []
    }
  ]
}