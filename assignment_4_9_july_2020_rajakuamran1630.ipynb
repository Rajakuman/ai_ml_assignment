{
 "cells": [
  {
   "cell_type": "markdown",
   "metadata": {},
   "source": [
    "# Question 1 :\n",
    "Research on whether addition, subtraction, multiplication, division, floor division and modulo\n",
    "operations be performed on complex numbers. Based on your study, implement a Python\n",
    "program to demonstrate these operations"
   ]
  },
  {
   "cell_type": "code",
   "execution_count": 9,
   "metadata": {},
   "outputs": [
    {
     "name": "stdout",
     "output_type": "stream",
     "text": [
      "Input two numbers are (a,b) : 3  ,  20\n",
      "addition: a + b :  23\n",
      "subtraction: b - a :  17\n",
      "Multiplication: a * b :  60\n",
      "division: b / a :  6.666666666666667\n",
      "floor division: b // a :  6\n",
      "modulo: b % a :  2\n"
     ]
    }
   ],
   "source": [
    "a=3\n",
    "b=20\n",
    "c=a+b\n",
    "d=b-a\n",
    "e=a*b\n",
    "f=b/a\n",
    "g=b//a\n",
    "h=b%a\n",
    "print(\"Input two numbers are (a,b) :\",a,\" , \",b)\n",
    "print(\"addition: a + b : \",c)\n",
    "print(\"subtraction: b - a : \",d)\n",
    "print(\"Multiplication: a * b : \",e)\n",
    "print(\"division: b / a : \",f)\n",
    "print(\"floor division: b // a : \",g)\n",
    "print(\"modulo: b % a : \",h)\n"
   ]
  },
  {
   "cell_type": "markdown",
   "metadata": {},
   "source": [
    "# Question 2 :\n",
    "Research on range() functions and its parameters. Create a markdown cell and write in your own\n",
    "words (no copy-paste from google please) what you understand about it. Implement a small\n",
    "program of your choice on the same."
   ]
  },
  {
   "cell_type": "markdown",
   "metadata": {},
   "source": [
    "# range(start, stop, step)\n",
    "It is three type of parameter need to pass.\n",
    "all parameters are integers.\n",
    "Start and Step are optional \n",
    "Stop parameter is mandatory \n",
    "Start is sequence is starting number\n",
    "stop is how many number to stop\n",
    "step incremental for sequence\n",
    "\n"
   ]
  },
  {
   "cell_type": "markdown",
   "metadata": {},
   "source": [
    "# Question 3:\n",
    "Consider two numbers. Perform their subtraction and if the result of subtraction is greater than\n",
    "25, print their multiplication result else print their division result."
   ]
  },
  {
   "cell_type": "code",
   "execution_count": 37,
   "metadata": {},
   "outputs": [
    {
     "name": "stdout",
     "output_type": "stream",
     "text": [
      "multiplication: 1200\n"
     ]
    }
   ],
   "source": [
    "a=50\n",
    "b=24\n",
    "c=a-b\n",
    "\n",
    "if c > 25:\n",
    "    print(\"multiplication:\",a*b)\n",
    "else:\n",
    "    print(\"division:\",a/b)"
   ]
  },
  {
   "cell_type": "markdown",
   "metadata": {},
   "source": [
    "# Question 4:\n",
    "Consider a list of 10 elements of integer values. If the number in the list is divisible by 2, print the\n",
    "result as \"square of that number minus 2\""
   ]
  },
  {
   "cell_type": "code",
   "execution_count": 47,
   "metadata": {},
   "outputs": [
    {
     "name": "stdout",
     "output_type": "stream",
     "text": [
      "2\n",
      "14\n",
      "34\n",
      "62\n",
      "98\n"
     ]
    }
   ],
   "source": [
    "list1 = [1,2,3,4,5,6,7,8,9,10]\n",
    "# print(list1)\n",
    "for l in list1:\n",
    "    if(l%2==0):\n",
    "        print((l*l)-2)\n",
    "    \n"
   ]
  },
  {
   "cell_type": "markdown",
   "metadata": {},
   "source": [
    "# Question 5:\n",
    "Consider a list of 10 elements. Print all the elements in the list which are greater than 7 when that\n",
    "number is divided 2"
   ]
  },
  {
   "cell_type": "code",
   "execution_count": 51,
   "metadata": {},
   "outputs": [
    {
     "name": "stdout",
     "output_type": "stream",
     "text": [
      "[12, 6, 7, 8, 9, 10]\n",
      "12\n",
      "8\n",
      "10\n"
     ]
    }
   ],
   "source": [
    "list1 = [12,6,7,8,9,10]\n",
    "print(list1)\n",
    "for l in list1:\n",
    "    if(l>7 and l%2==0):\n",
    "        print(l)\n",
    "    \n"
   ]
  }
 ],
 "metadata": {
  "kernelspec": {
   "display_name": "Python 3",
   "language": "python",
   "name": "python3"
  },
  "language_info": {
   "codemirror_mode": {
    "name": "ipython",
    "version": 3
   },
   "file_extension": ".py",
   "mimetype": "text/x-python",
   "name": "python",
   "nbconvert_exporter": "python",
   "pygments_lexer": "ipython3",
   "version": "3.7.3"
  }
 },
 "nbformat": 4,
 "nbformat_minor": 2
}
