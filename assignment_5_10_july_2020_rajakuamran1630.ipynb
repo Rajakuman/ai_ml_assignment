{
 "cells": [
  {
   "cell_type": "markdown",
   "metadata": {},
   "source": [
    "# Question 1 :\n",
    "Write a Python program to find the first 20 non-even prime natural numbers."
   ]
  },
  {
   "cell_type": "code",
   "execution_count": 28,
   "metadata": {},
   "outputs": [
    {
     "name": "stdout",
     "output_type": "stream",
     "text": [
      "3\n",
      "5\n",
      "7\n",
      "11\n",
      "13\n",
      "17\n",
      "19\n",
      "23\n",
      "29\n",
      "31\n",
      "37\n",
      "41\n",
      "43\n",
      "47\n",
      "53\n",
      "59\n",
      "61\n",
      "67\n",
      "71\n",
      "73\n"
     ]
    }
   ],
   "source": [
    "start = 2\n",
    "end = 75\n",
    "            \n",
    "for val in range(start, end + 1): \n",
    "    if val > 1: \n",
    "        for n in range(2, val//2 + 2): \n",
    "            if (val % n) == 0: \n",
    "                break\n",
    "            else: \n",
    "                if n == val//2 + 1: \n",
    "                    print(val) "
   ]
  },
  {
   "cell_type": "markdown",
   "metadata": {},
   "source": [
    "# Question 2 :\n",
    "Write a Python program to implement 15 functions of string"
   ]
  },
  {
   "cell_type": "code",
   "execution_count": 57,
   "metadata": {},
   "outputs": [
    {
     "name": "stdout",
     "output_type": "stream",
     "text": [
      "-----------------------------------------\n",
      "hello my friends\n",
      "-----------------------------------------\n",
      "HELLO MY FRIENDS\n",
      "-----------------------------------------\n",
      "Hello My Friends\n",
      "-----------------------------------------\n",
      "Hello Our Friends\n",
      "-----------------------------------------\n",
      "['Hello', 'Our', 'Friends']\n",
      "-----------------------------------------\n",
      "hELLO oUR fRIENDS\n",
      "-----------------------------------------\n",
      "Hello Our Friends\n",
      "-----------------------------------------\n",
      "True\n",
      "-----------------------------------------\n",
      "False\n",
      "-----------------------------------------\n",
      "False\n",
      "-----------------------------------------\n",
      "False\n",
      "-----------------------------------------\n",
      "4\n",
      "-----------------------------------------\n",
      "True\n",
      "-----------------------------------------\n",
      "7\n",
      "-----------------------------------------\n",
      "H e l l o\n",
      "-----------------------------------------\n"
     ]
    }
   ],
   "source": [
    "def printline():\n",
    "    print(\"-----------------------------------------\")\n",
    "\n",
    "printline();\n",
    "# 1\n",
    "txt = \"Hello my FRIENDS\"\n",
    "x = txt.lower()\n",
    "print(x)\n",
    "printline();\n",
    "\n",
    "# 2\n",
    "x = x.upper()\n",
    "print(x)\n",
    "printline();\n",
    "\n",
    "# 3\n",
    "x = x.title()\n",
    "print(x)\n",
    "printline();\n",
    "\n",
    "# 4\n",
    "x=x.replace(\"My\",\"Our\")\n",
    "print(x)\n",
    "printline();\n",
    "\n",
    "# 5\n",
    "y =x.split()\n",
    "print(y)\n",
    "printline();\n",
    "\n",
    "# 6\n",
    "x=x.swapcase()\n",
    "print(x)\n",
    "printline();\n",
    "\n",
    "# 7\n",
    "x=x.swapcase()\n",
    "print(x)\n",
    "printline();\n",
    "\n",
    "# 8\n",
    "txt = \"Hello, welcome to my world.\"\n",
    "x = txt.startswith(\"Hello\")\n",
    "print(x)\n",
    "printline();\n",
    "\n",
    "# 9\n",
    "y=txt.islower()\n",
    "print(y)\n",
    "printline();\n",
    "\n",
    "# 10\n",
    "y=txt.isupper()\n",
    "print(y)\n",
    "printline();\n",
    "\n",
    "# 11\n",
    "y=txt.isnumeric()\n",
    "print(y)\n",
    "printline();\n",
    "\n",
    "#12\n",
    "z=txt.count(\"o\")\n",
    "print(z)\n",
    "printline();\n",
    "\n",
    "#13\n",
    "z=txt.endswith(\".\")\n",
    "print(z)\n",
    "printline();\n",
    "\n",
    "#14\n",
    "txt = \"Hello, welcome to my world.\"\n",
    "x = txt.find(\"welcome\")\n",
    "print(x)\n",
    "printline();\n",
    "\n",
    "#15\n",
    "txt = \"H\\te\\tl\\tl\\to\"\n",
    "x =  txt.expandtabs(2)\n",
    "print(x)\n",
    "printline();\n"
   ]
  },
  {
   "cell_type": "markdown",
   "metadata": {},
   "source": [
    "# Question 3:\n",
    "Write a Python program to check if the given string is a Palindrome or Anagram or None of them.\n",
    "Display the message accordingly to the user\n",
    "\n",
    "str =\"madam\"\n",
    "st1=str::\n"
   ]
  },
  {
   "cell_type": "code",
   "execution_count": 62,
   "metadata": {},
   "outputs": [
    {
     "name": "stdout",
     "output_type": "stream",
     "text": [
      "madam  is Palindrome\n"
     ]
    }
   ],
   "source": [
    "str =\"madam\"\n",
    "txt = str [::-1]\n",
    "if txt==str:\n",
    "    print(str,\" is Palindrome\")"
   ]
  },
  {
   "cell_type": "code",
   "execution_count": 72,
   "metadata": {},
   "outputs": [
    {
     "name": "stdout",
     "output_type": "stream",
     "text": [
      "abcdz  and  dcabz1 , both are not anagram\n"
     ]
    }
   ],
   "source": [
    "from collections import Counter \n",
    "  \n",
    "def anagram(input1, input2): \n",
    "  \n",
    "    # Counter() returns a dictionary data \n",
    "    # structure which contains characters  \n",
    "    # of input as key and their frequencies \n",
    "    # as it's corresponding value \n",
    "    return Counter(input1) == Counter(input2) \n",
    "\n",
    "# Driver function \n",
    "if __name__ == \"__main__\": \n",
    "    input1 = 'abcdz'\n",
    "    input2 = 'dcabz1'\n",
    "    if (anagram(input1, input2) ):\n",
    "        print(input1,\" and \",input2, \", both are anagram\")\n",
    "    else:\n",
    "        print(input1,\" and \",input2, \", both are not anagram\")\n",
    "    "
   ]
  },
  {
   "cell_type": "markdown",
   "metadata": {},
   "source": [
    "# Question 4:\n",
    "Write a Python's user defined function that removes all the additional characters from the string\n",
    "and converts it finally to lower case using built-in lower(). eg: If the string is \"Dr. Darshan Ingle\n",
    "@AI-ML Trainer\", then the output be \"drdarshaningleaimltrainer\".\n"
   ]
  },
  {
   "cell_type": "code",
   "execution_count": 94,
   "metadata": {},
   "outputs": [
    {
     "name": "stdout",
     "output_type": "stream",
     "text": [
      "drdarshaningleaimltrainer\n"
     ]
    }
   ],
   "source": [
    "import re\n",
    "a = 'Dr. Darshan Ingle @AI-ML Trainer'\n",
    "\n",
    "nestr = re.sub(r'[^a-zA-Z0-9 ]',r'',a)\n",
    "# print (nestr)\n",
    "nestr=nestr.replace(\" \",\"\")\n",
    "print (nestr.lower())"
   ]
  }
 ],
 "metadata": {
  "kernelspec": {
   "display_name": "Python 3",
   "language": "python",
   "name": "python3"
  },
  "language_info": {
   "codemirror_mode": {
    "name": "ipython",
    "version": 3
   },
   "file_extension": ".py",
   "mimetype": "text/x-python",
   "name": "python",
   "nbconvert_exporter": "python",
   "pygments_lexer": "ipython3",
   "version": "3.7.3"
  }
 },
 "nbformat": 4,
 "nbformat_minor": 2
}
